{
 "cells": [
  {
   "cell_type": "code",
   "execution_count": 16,
   "metadata": {},
   "outputs": [],
   "source": [
    "import hopsworks\n",
    "import pandas as pd\n",
    "import joblib\n",
    "import os\n",
    "import numpy as np\n",
    "from sklearn.metrics import confusion_matrix\n",
    "from matplotlib import pyplot\n",
    "import seaborn as sns\n"
   ]
  },
  {
   "cell_type": "markdown",
   "metadata": {},
   "source": [
    "xFjUzEB8badqAo3Z.5gLKrqjqOVPprBjEk7ydaNfzODftui5KSMbLiiTQwBfLTc8KbK8FiqgJ2Niboimt"
   ]
  },
  {
   "cell_type": "code",
   "execution_count": 17,
   "metadata": {},
   "outputs": [],
   "source": [
    "# Define version numbers for feature view and model\n",
    "FV_VERSION = 1\n",
    "MODEL_VERSION = 1\n",
    "\n"
   ]
  },
  {
   "cell_type": "code",
   "execution_count": 18,
   "metadata": {},
   "outputs": [
    {
     "name": "stdout",
     "output_type": "stream",
     "text": [
      "Connection closed.\n",
      "Connected. Call `.close()` to terminate connection gracefully.\n"
     ]
    },
    {
     "name": "stdout",
     "output_type": "stream",
     "text": [
      "\n",
      "Logged in to project, explore it here https://c.app.hopsworks.ai:443/p/1043609\n",
      "Connected. Call `.close()` to terminate connection gracefully.\n"
     ]
    }
   ],
   "source": [
    "import hopsworks\n",
    "\n",
    "project = hopsworks.login()\n",
    "\n",
    "fs = project.get_feature_store()"
   ]
  },
  {
   "cell_type": "code",
   "execution_count": 11,
   "metadata": {},
   "outputs": [],
   "source": [
    "df_trucks = pd.read_csv(\n",
    "    '/Users/rammaruthi/Desktop/Truck/data/cleaned/df_trucks_cleaned.csv')\n",
    "df_truck_schedule = pd.read_csv(\n",
    "    '/Users/rammaruthi/Desktop/Truck/data/cleaned/df_truck_schedule_cleaned.csv')\n",
    "df_traffic = pd.read_csv(\n",
    "    '/Users/rammaruthi/Desktop/Truck/data/cleaned/df_traffic_cleaned.csv')\n",
    "df_routes_weather = pd.read_csv(\n",
    "    '/Users/rammaruthi/Desktop/Truck/data/cleaned/df_routes_weather_cleaned.csv')\n",
    "df_routes = pd.read_csv(\n",
    "    '/Users/rammaruthi/Desktop/Truck/data/cleaned/df_routes_cleaned.csv')\n",
    "df_drivers = pd.read_csv(\n",
    "    '/Users/rammaruthi/Desktop/Truck/data/cleaned/df_drivers_cleaned.csv')\n",
    "df_city_weather = pd.read_csv(\n",
    "    '/Users/rammaruthi/Desktop/Truck/data/cleaned/df_city_weather_cleaned.csv')"
   ]
  },
  {
   "cell_type": "code",
   "execution_count": 12,
   "metadata": {},
   "outputs": [
    {
     "data": {
      "text/html": [
       "<div>\n",
       "<style scoped>\n",
       "    .dataframe tbody tr th:only-of-type {\n",
       "        vertical-align: middle;\n",
       "    }\n",
       "\n",
       "    .dataframe tbody tr th {\n",
       "        vertical-align: top;\n",
       "    }\n",
       "\n",
       "    .dataframe thead th {\n",
       "        text-align: right;\n",
       "    }\n",
       "</style>\n",
       "<table border=\"1\" class=\"dataframe\">\n",
       "  <thead>\n",
       "    <tr style=\"text-align: right;\">\n",
       "      <th></th>\n",
       "      <th>index</th>\n",
       "      <th>truck_id</th>\n",
       "      <th>truck_age</th>\n",
       "      <th>load_capacity_pounds</th>\n",
       "      <th>mileage_mpg</th>\n",
       "      <th>fuel_type</th>\n",
       "      <th>event_date</th>\n",
       "    </tr>\n",
       "  </thead>\n",
       "  <tbody>\n",
       "    <tr>\n",
       "      <th>0</th>\n",
       "      <td>0</td>\n",
       "      <td>42302347</td>\n",
       "      <td>10</td>\n",
       "      <td>3000.0</td>\n",
       "      <td>17</td>\n",
       "      <td>gas</td>\n",
       "      <td>2024-09-19</td>\n",
       "    </tr>\n",
       "    <tr>\n",
       "      <th>1</th>\n",
       "      <td>1</td>\n",
       "      <td>27867488</td>\n",
       "      <td>14</td>\n",
       "      <td>10000.0</td>\n",
       "      <td>22</td>\n",
       "      <td>diesel</td>\n",
       "      <td>2024-09-19</td>\n",
       "    </tr>\n",
       "    <tr>\n",
       "      <th>2</th>\n",
       "      <td>2</td>\n",
       "      <td>13927774</td>\n",
       "      <td>8</td>\n",
       "      <td>10000.0</td>\n",
       "      <td>19</td>\n",
       "      <td>gas</td>\n",
       "      <td>2024-09-19</td>\n",
       "    </tr>\n",
       "    <tr>\n",
       "      <th>3</th>\n",
       "      <td>3</td>\n",
       "      <td>69577118</td>\n",
       "      <td>8</td>\n",
       "      <td>20000.0</td>\n",
       "      <td>19</td>\n",
       "      <td>gas</td>\n",
       "      <td>2024-09-19</td>\n",
       "    </tr>\n",
       "    <tr>\n",
       "      <th>4</th>\n",
       "      <td>4</td>\n",
       "      <td>28650047</td>\n",
       "      <td>10</td>\n",
       "      <td>4000.0</td>\n",
       "      <td>21</td>\n",
       "      <td>diesel</td>\n",
       "      <td>2024-09-19</td>\n",
       "    </tr>\n",
       "    <tr>\n",
       "      <th>...</th>\n",
       "      <td>...</td>\n",
       "      <td>...</td>\n",
       "      <td>...</td>\n",
       "      <td>...</td>\n",
       "      <td>...</td>\n",
       "      <td>...</td>\n",
       "      <td>...</td>\n",
       "    </tr>\n",
       "    <tr>\n",
       "      <th>1196</th>\n",
       "      <td>1295</td>\n",
       "      <td>17792974</td>\n",
       "      <td>11</td>\n",
       "      <td>4000.0</td>\n",
       "      <td>22</td>\n",
       "      <td>diesel</td>\n",
       "      <td>2024-09-19</td>\n",
       "    </tr>\n",
       "    <tr>\n",
       "      <th>1197</th>\n",
       "      <td>1296</td>\n",
       "      <td>17248432</td>\n",
       "      <td>11</td>\n",
       "      <td>6000.0</td>\n",
       "      <td>22</td>\n",
       "      <td>diesel</td>\n",
       "      <td>2024-09-19</td>\n",
       "    </tr>\n",
       "    <tr>\n",
       "      <th>1198</th>\n",
       "      <td>1297</td>\n",
       "      <td>21865328</td>\n",
       "      <td>10</td>\n",
       "      <td>3000.0</td>\n",
       "      <td>15</td>\n",
       "      <td>gas</td>\n",
       "      <td>2024-09-19</td>\n",
       "    </tr>\n",
       "    <tr>\n",
       "      <th>1199</th>\n",
       "      <td>1298</td>\n",
       "      <td>33564827</td>\n",
       "      <td>11</td>\n",
       "      <td>15000.0</td>\n",
       "      <td>24</td>\n",
       "      <td>diesel</td>\n",
       "      <td>2024-09-19</td>\n",
       "    </tr>\n",
       "    <tr>\n",
       "      <th>1200</th>\n",
       "      <td>1299</td>\n",
       "      <td>34755903</td>\n",
       "      <td>12</td>\n",
       "      <td>4000.0</td>\n",
       "      <td>25</td>\n",
       "      <td>diesel</td>\n",
       "      <td>2024-09-19</td>\n",
       "    </tr>\n",
       "  </tbody>\n",
       "</table>\n",
       "<p>1201 rows × 7 columns</p>\n",
       "</div>"
      ],
      "text/plain": [
       "      index  truck_id  truck_age  load_capacity_pounds  mileage_mpg fuel_type  \\\n",
       "0         0  42302347         10                3000.0           17       gas   \n",
       "1         1  27867488         14               10000.0           22    diesel   \n",
       "2         2  13927774          8               10000.0           19       gas   \n",
       "3         3  69577118          8               20000.0           19       gas   \n",
       "4         4  28650047         10                4000.0           21    diesel   \n",
       "...     ...       ...        ...                   ...          ...       ...   \n",
       "1196   1295  17792974         11                4000.0           22    diesel   \n",
       "1197   1296  17248432         11                6000.0           22    diesel   \n",
       "1198   1297  21865328         10                3000.0           15       gas   \n",
       "1199   1298  33564827         11               15000.0           24    diesel   \n",
       "1200   1299  34755903         12                4000.0           25    diesel   \n",
       "\n",
       "      event_date  \n",
       "0     2024-09-19  \n",
       "1     2024-09-19  \n",
       "2     2024-09-19  \n",
       "3     2024-09-19  \n",
       "4     2024-09-19  \n",
       "...          ...  \n",
       "1196  2024-09-19  \n",
       "1197  2024-09-19  \n",
       "1198  2024-09-19  \n",
       "1199  2024-09-19  \n",
       "1200  2024-09-19  \n",
       "\n",
       "[1201 rows x 7 columns]"
      ]
     },
     "execution_count": 12,
     "metadata": {},
     "output_type": "execute_result"
    }
   ],
   "source": [
    "df_trucks"
   ]
  },
  {
   "cell_type": "code",
   "execution_count": 21,
   "metadata": {},
   "outputs": [],
   "source": [
    "df_trucks['event_date'] = pd.to_datetime(df_trucks['event_date'])"
   ]
  },
  {
   "cell_type": "code",
   "execution_count": 31,
   "metadata": {},
   "outputs": [
    {
     "data": {
      "text/html": [
       "<div>\n",
       "<style scoped>\n",
       "    .dataframe tbody tr th:only-of-type {\n",
       "        vertical-align: middle;\n",
       "    }\n",
       "\n",
       "    .dataframe tbody tr th {\n",
       "        vertical-align: top;\n",
       "    }\n",
       "\n",
       "    .dataframe thead th {\n",
       "        text-align: right;\n",
       "    }\n",
       "</style>\n",
       "<table border=\"1\" class=\"dataframe\">\n",
       "  <thead>\n",
       "    <tr style=\"text-align: right;\">\n",
       "      <th></th>\n",
       "      <th>index</th>\n",
       "      <th>truck_id</th>\n",
       "      <th>truck_age</th>\n",
       "      <th>load_capacity_pounds</th>\n",
       "      <th>mileage_mpg</th>\n",
       "      <th>fuel_type</th>\n",
       "      <th>event_date</th>\n",
       "    </tr>\n",
       "  </thead>\n",
       "  <tbody>\n",
       "    <tr>\n",
       "      <th>0</th>\n",
       "      <td>0</td>\n",
       "      <td>42302347</td>\n",
       "      <td>10</td>\n",
       "      <td>3000.0</td>\n",
       "      <td>17</td>\n",
       "      <td>gas</td>\n",
       "      <td>2024-09-19</td>\n",
       "    </tr>\n",
       "    <tr>\n",
       "      <th>1</th>\n",
       "      <td>1</td>\n",
       "      <td>27867488</td>\n",
       "      <td>14</td>\n",
       "      <td>10000.0</td>\n",
       "      <td>22</td>\n",
       "      <td>diesel</td>\n",
       "      <td>2024-09-19</td>\n",
       "    </tr>\n",
       "    <tr>\n",
       "      <th>2</th>\n",
       "      <td>2</td>\n",
       "      <td>13927774</td>\n",
       "      <td>8</td>\n",
       "      <td>10000.0</td>\n",
       "      <td>19</td>\n",
       "      <td>gas</td>\n",
       "      <td>2024-09-19</td>\n",
       "    </tr>\n",
       "    <tr>\n",
       "      <th>3</th>\n",
       "      <td>3</td>\n",
       "      <td>69577118</td>\n",
       "      <td>8</td>\n",
       "      <td>20000.0</td>\n",
       "      <td>19</td>\n",
       "      <td>gas</td>\n",
       "      <td>2024-09-19</td>\n",
       "    </tr>\n",
       "    <tr>\n",
       "      <th>4</th>\n",
       "      <td>4</td>\n",
       "      <td>28650047</td>\n",
       "      <td>10</td>\n",
       "      <td>4000.0</td>\n",
       "      <td>21</td>\n",
       "      <td>diesel</td>\n",
       "      <td>2024-09-19</td>\n",
       "    </tr>\n",
       "    <tr>\n",
       "      <th>...</th>\n",
       "      <td>...</td>\n",
       "      <td>...</td>\n",
       "      <td>...</td>\n",
       "      <td>...</td>\n",
       "      <td>...</td>\n",
       "      <td>...</td>\n",
       "      <td>...</td>\n",
       "    </tr>\n",
       "    <tr>\n",
       "      <th>1196</th>\n",
       "      <td>1295</td>\n",
       "      <td>17792974</td>\n",
       "      <td>11</td>\n",
       "      <td>4000.0</td>\n",
       "      <td>22</td>\n",
       "      <td>diesel</td>\n",
       "      <td>2024-09-19</td>\n",
       "    </tr>\n",
       "    <tr>\n",
       "      <th>1197</th>\n",
       "      <td>1296</td>\n",
       "      <td>17248432</td>\n",
       "      <td>11</td>\n",
       "      <td>6000.0</td>\n",
       "      <td>22</td>\n",
       "      <td>diesel</td>\n",
       "      <td>2024-09-19</td>\n",
       "    </tr>\n",
       "    <tr>\n",
       "      <th>1198</th>\n",
       "      <td>1297</td>\n",
       "      <td>21865328</td>\n",
       "      <td>10</td>\n",
       "      <td>3000.0</td>\n",
       "      <td>15</td>\n",
       "      <td>gas</td>\n",
       "      <td>2024-09-19</td>\n",
       "    </tr>\n",
       "    <tr>\n",
       "      <th>1199</th>\n",
       "      <td>1298</td>\n",
       "      <td>33564827</td>\n",
       "      <td>11</td>\n",
       "      <td>15000.0</td>\n",
       "      <td>24</td>\n",
       "      <td>diesel</td>\n",
       "      <td>2024-09-19</td>\n",
       "    </tr>\n",
       "    <tr>\n",
       "      <th>1200</th>\n",
       "      <td>1299</td>\n",
       "      <td>34755903</td>\n",
       "      <td>12</td>\n",
       "      <td>4000.0</td>\n",
       "      <td>25</td>\n",
       "      <td>diesel</td>\n",
       "      <td>2024-09-19</td>\n",
       "    </tr>\n",
       "  </tbody>\n",
       "</table>\n",
       "<p>1201 rows × 7 columns</p>\n",
       "</div>"
      ],
      "text/plain": [
       "      index  truck_id  truck_age  load_capacity_pounds  mileage_mpg fuel_type  \\\n",
       "0         0  42302347         10                3000.0           17       gas   \n",
       "1         1  27867488         14               10000.0           22    diesel   \n",
       "2         2  13927774          8               10000.0           19       gas   \n",
       "3         3  69577118          8               20000.0           19       gas   \n",
       "4         4  28650047         10                4000.0           21    diesel   \n",
       "...     ...       ...        ...                   ...          ...       ...   \n",
       "1196   1295  17792974         11                4000.0           22    diesel   \n",
       "1197   1296  17248432         11                6000.0           22    diesel   \n",
       "1198   1297  21865328         10                3000.0           15       gas   \n",
       "1199   1298  33564827         11               15000.0           24    diesel   \n",
       "1200   1299  34755903         12                4000.0           25    diesel   \n",
       "\n",
       "     event_date  \n",
       "0    2024-09-19  \n",
       "1    2024-09-19  \n",
       "2    2024-09-19  \n",
       "3    2024-09-19  \n",
       "4    2024-09-19  \n",
       "...         ...  \n",
       "1196 2024-09-19  \n",
       "1197 2024-09-19  \n",
       "1198 2024-09-19  \n",
       "1199 2024-09-19  \n",
       "1200 2024-09-19  \n",
       "\n",
       "[1201 rows x 7 columns]"
      ]
     },
     "execution_count": 31,
     "metadata": {},
     "output_type": "execute_result"
    }
   ],
   "source": [
    "df_trucks"
   ]
  },
  {
   "cell_type": "code",
   "execution_count": 22,
   "metadata": {},
   "outputs": [
    {
     "name": "stdout",
     "output_type": "stream",
     "text": [
      "Feature Group created successfully, explore it at \n",
      "https://c.app.hopsworks.ai:443/p/1043609/fs/1035336/fg/1203537\n"
     ]
    },
    {
     "data": {
      "application/vnd.jupyter.widget-view+json": {
       "model_id": "1515518c2c97481ba784c282f21b136c",
       "version_major": 2,
       "version_minor": 0
      },
      "text/plain": [
       "Uploading Dataframe: 0.00% |          | Rows 0/1201 | Elapsed Time: 00:00 | Remaining Time: ?"
      ]
     },
     "metadata": {},
     "output_type": "display_data"
    },
    {
     "name": "stdout",
     "output_type": "stream",
     "text": [
      "Launching job: trucks_features_1_offline_fg_materialization\n",
      "Job started successfully, you can follow the progress at \n",
      "https://c.app.hopsworks.ai/p/1043609/jobs/named/trucks_features_1_offline_fg_materialization/executions\n"
     ]
    },
    {
     "data": {
      "text/plain": [
       "(<hsfs.core.job.Job at 0x16400c0b0>, None)"
      ]
     },
     "execution_count": 22,
     "metadata": {},
     "output_type": "execute_result"
    }
   ],
   "source": [
    "\n",
    "feature_group_trucks = fs.create_feature_group(\n",
    "    name='trucks_features',\n",
    "    version=1,\n",
    "    description='Features from Dataset trucks',\n",
    "    primary_key=['index'],  # Set the primary keys for the dataset\n",
    "    online_enabled=True,\n",
    "    event_time='event_date'\n",
    ")\n",
    "\n",
    "# Insert data into feature group\n",
    "feature_group_trucks.insert(df_trucks)\n"
   ]
  },
  {
   "cell_type": "code",
   "execution_count": 23,
   "metadata": {},
   "outputs": [],
   "source": [
    "df_truck_schedule['event_date'] = pd.to_datetime(df_truck_schedule['event_date'])"
   ]
  },
  {
   "cell_type": "code",
   "execution_count": 24,
   "metadata": {},
   "outputs": [
    {
     "name": "stdout",
     "output_type": "stream",
     "text": [
      "Feature Group created successfully, explore it at \n",
      "https://c.app.hopsworks.ai:443/p/1043609/fs/1035336/fg/1202519\n"
     ]
    },
    {
     "data": {
      "application/vnd.jupyter.widget-view+json": {
       "model_id": "0f5c1f190143474b9f4d5ed45d1c4866",
       "version_major": 2,
       "version_minor": 0
      },
      "text/plain": [
       "Uploading Dataframe: 0.00% |          | Rows 0/12308 | Elapsed Time: 00:00 | Remaining Time: ?"
      ]
     },
     "metadata": {},
     "output_type": "display_data"
    },
    {
     "name": "stdout",
     "output_type": "stream",
     "text": [
      "Launching job: trucks_schedule_features_1_offline_fg_materialization\n",
      "Job started successfully, you can follow the progress at \n",
      "https://c.app.hopsworks.ai/p/1043609/jobs/named/trucks_schedule_features_1_offline_fg_materialization/executions\n"
     ]
    },
    {
     "data": {
      "text/plain": [
       "(<hsfs.core.job.Job at 0x16400dc70>, None)"
      ]
     },
     "execution_count": 24,
     "metadata": {},
     "output_type": "execute_result"
    }
   ],
   "source": [
    "\n",
    "feature_group_truck_schedule = fs.create_feature_group(\n",
    "    name='trucks_schedule_features',\n",
    "    version=1,\n",
    "    description='Features from Dataset trucks_schedule',\n",
    "    primary_key=['index'],  # Set the primary keys for the dataset\n",
    "    online_enabled=True,\n",
    "    event_time='event_date'# If you want online feature serving\n",
    ")\n",
    "\n",
    "# Insert data into feature group\n",
    "feature_group_truck_schedule.insert(df_truck_schedule)\n"
   ]
  },
  {
   "cell_type": "code",
   "execution_count": 25,
   "metadata": {},
   "outputs": [],
   "source": [
    "df_traffic['event_date'] = pd.to_datetime(df_traffic['event_date'])"
   ]
  },
  {
   "cell_type": "code",
   "execution_count": 26,
   "metadata": {},
   "outputs": [
    {
     "name": "stdout",
     "output_type": "stream",
     "text": [
      "Feature Group created successfully, explore it at \n",
      "https://c.app.hopsworks.ai:443/p/1043609/fs/1035336/fg/1203538\n"
     ]
    },
    {
     "data": {
      "application/vnd.jupyter.widget-view+json": {
       "model_id": "70c754c70ad84d1b85acf72f22d11cb3",
       "version_major": 2,
       "version_minor": 0
      },
      "text/plain": [
       "Uploading Dataframe: 0.00% |          | Rows 0/2459682 | Elapsed Time: 00:00 | Remaining Time: ?"
      ]
     },
     "metadata": {},
     "output_type": "display_data"
    },
    {
     "name": "stdout",
     "output_type": "stream",
     "text": [
      "Launching job: traffic_features_1_offline_fg_materialization\n",
      "Job started successfully, you can follow the progress at \n",
      "https://c.app.hopsworks.ai/p/1043609/jobs/named/traffic_features_1_offline_fg_materialization/executions\n"
     ]
    },
    {
     "data": {
      "text/plain": [
       "(<hsfs.core.job.Job at 0x16401f920>, None)"
      ]
     },
     "execution_count": 26,
     "metadata": {},
     "output_type": "execute_result"
    }
   ],
   "source": [
    "\n",
    "feature_group_traffic = fs.create_feature_group(\n",
    "    name='traffic_features',\n",
    "    version=1,\n",
    "    description='Features from Dataset trucks',\n",
    "    primary_key=['index'],  # Set the primary keys for the dataset\n",
    "    online_enabled=True,\n",
    "    event_time='event_date'# If you want online feature serving\n",
    ")\n",
    "\n",
    "# Insert data into feature group\n",
    "feature_group_traffic.insert(df_traffic)\n"
   ]
  },
  {
   "cell_type": "code",
   "execution_count": 27,
   "metadata": {},
   "outputs": [],
   "source": [
    "df_routes_weather['event_date'] = pd.to_datetime(df_routes_weather['event_date'])"
   ]
  },
  {
   "cell_type": "code",
   "execution_count": 28,
   "metadata": {},
   "outputs": [
    {
     "name": "stdout",
     "output_type": "stream",
     "text": [
      "2024-09-19 13:36:37,574 WARNING: FeatureGroupWarning: The ingested dataframe contains upper case letters in feature names: `['Date']`. Feature names are sanitized to lower case in the feature store.\n",
      "\n",
      "Feature Group created successfully, explore it at \n",
      "https://c.app.hopsworks.ai:443/p/1043609/fs/1035336/fg/1204556\n"
     ]
    },
    {
     "data": {
      "application/vnd.jupyter.widget-view+json": {
       "model_id": "9ef45aebb9a44906b2705f48c334b213",
       "version_major": 2,
       "version_minor": 0
      },
      "text/plain": [
       "Uploading Dataframe: 0.00% |          | Rows 0/396149 | Elapsed Time: 00:00 | Remaining Time: ?"
      ]
     },
     "metadata": {},
     "output_type": "display_data"
    },
    {
     "name": "stdout",
     "output_type": "stream",
     "text": [
      "Launching job: routes_weather_features_1_offline_fg_materialization\n",
      "Job started successfully, you can follow the progress at \n",
      "https://c.app.hopsworks.ai/p/1043609/jobs/named/routes_weather_features_1_offline_fg_materialization/executions\n"
     ]
    },
    {
     "data": {
      "text/plain": [
       "(<hsfs.core.job.Job at 0x163eebcb0>, None)"
      ]
     },
     "execution_count": 28,
     "metadata": {},
     "output_type": "execute_result"
    }
   ],
   "source": [
    "\n",
    "feature_group_routes_weather = fs.create_feature_group(\n",
    "    name='routes_weather_features',\n",
    "    version=1,\n",
    "    description='Features from Dataset routes_weather',\n",
    "    primary_key=['index'],  # Set the primary keys for the dataset\n",
    "    online_enabled=True,\n",
    "    event_time='event_date'# If you want online feature serving\n",
    ")\n",
    "\n",
    "# Insert data into feature group\n",
    "feature_group_routes_weather.insert(df_routes_weather)\n"
   ]
  },
  {
   "cell_type": "code",
   "execution_count": 29,
   "metadata": {},
   "outputs": [],
   "source": [
    "df_routes['event_date'] = pd.to_datetime(df_routes['event_date'])"
   ]
  },
  {
   "cell_type": "code",
   "execution_count": 30,
   "metadata": {},
   "outputs": [
    {
     "name": "stdout",
     "output_type": "stream",
     "text": [
      "Feature Group created successfully, explore it at \n",
      "https://c.app.hopsworks.ai:443/p/1043609/fs/1035336/fg/1202520\n"
     ]
    },
    {
     "data": {
      "application/vnd.jupyter.widget-view+json": {
       "model_id": "7e7e688edcbf4e0e92a962d5b8f9b6e4",
       "version_major": 2,
       "version_minor": 0
      },
      "text/plain": [
       "Uploading Dataframe: 0.00% |          | Rows 0/2352 | Elapsed Time: 00:00 | Remaining Time: ?"
      ]
     },
     "metadata": {},
     "output_type": "display_data"
    },
    {
     "name": "stdout",
     "output_type": "stream",
     "text": [
      "Launching job: routes_features_1_offline_fg_materialization\n",
      "Job started successfully, you can follow the progress at \n",
      "https://c.app.hopsworks.ai/p/1043609/jobs/named/routes_features_1_offline_fg_materialization/executions\n"
     ]
    },
    {
     "data": {
      "text/plain": [
       "(<hsfs.core.job.Job at 0x163edb980>, None)"
      ]
     },
     "execution_count": 30,
     "metadata": {},
     "output_type": "execute_result"
    }
   ],
   "source": [
    "\n",
    "feature_group_routes = fs.create_feature_group(\n",
    "    name='routes_features',\n",
    "    version=1,\n",
    "    description='Features from Dataset routes',\n",
    "    primary_key=['index'],  # Set the primary keys for the dataset\n",
    "    online_enabled=True,\n",
    "    event_time='event_date'# If you want online feature serving\n",
    ")\n",
    "\n",
    "# Insert data into feature group\n",
    "feature_group_routes.insert(df_routes)\n"
   ]
  },
  {
   "cell_type": "code",
   "execution_count": 32,
   "metadata": {},
   "outputs": [],
   "source": [
    "df_drivers['event_date'] = pd.to_datetime(df_drivers['event_date'])"
   ]
  },
  {
   "cell_type": "code",
   "execution_count": 34,
   "metadata": {},
   "outputs": [
    {
     "name": "stdout",
     "output_type": "stream",
     "text": [
      "Feature Group created successfully, explore it at \n",
      "https://c.app.hopsworks.ai:443/p/1043609/fs/1035336/fg/1203547\n"
     ]
    },
    {
     "data": {
      "application/vnd.jupyter.widget-view+json": {
       "model_id": "6e897001c02c4112a957affe6145e614",
       "version_major": 2,
       "version_minor": 0
      },
      "text/plain": [
       "Uploading Dataframe: 0.00% |          | Rows 0/1283 | Elapsed Time: 00:00 | Remaining Time: ?"
      ]
     },
     "metadata": {},
     "output_type": "display_data"
    },
    {
     "name": "stdout",
     "output_type": "stream",
     "text": [
      "Launching job: drivers_features_1_offline_fg_materialization\n",
      "Job started successfully, you can follow the progress at \n",
      "https://c.app.hopsworks.ai/p/1043609/jobs/named/drivers_features_1_offline_fg_materialization/executions\n"
     ]
    },
    {
     "data": {
      "text/plain": [
       "(<hsfs.core.job.Job at 0x163f771d0>, None)"
      ]
     },
     "execution_count": 34,
     "metadata": {},
     "output_type": "execute_result"
    }
   ],
   "source": [
    "\n",
    "feature_group_drivers = fs.create_feature_group(\n",
    "    name='drivers_features',\n",
    "    version=1,\n",
    "    description='Features from Dataset drivers',\n",
    "    primary_key=['index'],  # Set the primary keys for the dataset\n",
    "    event_time='event_date'\n",
    "    # If you want online feature serving\n",
    ")\n",
    "\n",
    "# Insert data into feature group\n",
    "feature_group_drivers.insert(df_drivers)"
   ]
  },
  {
   "cell_type": "code",
   "execution_count": 35,
   "metadata": {},
   "outputs": [],
   "source": [
    "df_city_weather['event_date'] = pd.to_datetime(df_city_weather['event_date'])"
   ]
  },
  {
   "cell_type": "code",
   "execution_count": 38,
   "metadata": {},
   "outputs": [
    {
     "name": "stdout",
     "output_type": "stream",
     "text": [
      "Feature Group created successfully, explore it at \n",
      "https://c.app.hopsworks.ai:443/p/1043609/fs/1035336/fg/1202535\n"
     ]
    },
    {
     "data": {
      "application/vnd.jupyter.widget-view+json": {
       "model_id": "6897e614ac394c11a72ea9405faf7fca",
       "version_major": 2,
       "version_minor": 0
      },
      "text/plain": [
       "Uploading Dataframe: 0.00% |          | Rows 0/51834 | Elapsed Time: 00:00 | Remaining Time: ?"
      ]
     },
     "metadata": {},
     "output_type": "display_data"
    },
    {
     "name": "stdout",
     "output_type": "stream",
     "text": [
      "Launching job: city_weather_features_1_offline_fg_materialization\n",
      "Job started successfully, you can follow the progress at \n",
      "https://c.app.hopsworks.ai/p/1043609/jobs/named/city_weather_features_1_offline_fg_materialization/executions\n"
     ]
    },
    {
     "data": {
      "text/plain": [
       "(<hsfs.core.job.Job at 0x16400fd10>, None)"
      ]
     },
     "execution_count": 38,
     "metadata": {},
     "output_type": "execute_result"
    }
   ],
   "source": [
    "\n",
    "feature_group_city_weather = fs.create_feature_group(\n",
    "    name='city_weather_features',\n",
    "    version=1,\n",
    "    description='Features from Dataset city_weather',\n",
    "    primary_key=['index'],  # Set the primary keys for the dataset\n",
    "    event_time='event_date' \n",
    ")\n",
    "\n",
    "# Insert data into feature group\n",
    "feature_group_city_weather.insert(df_city_weather)"
   ]
  },
  {
   "cell_type": "code",
   "execution_count": null,
   "metadata": {},
   "outputs": [],
   "source": []
  }
 ],
 "metadata": {
  "kernelspec": {
   "display_name": ".venv",
   "language": "python",
   "name": "python3"
  },
  "language_info": {
   "codemirror_mode": {
    "name": "ipython",
    "version": 3
   },
   "file_extension": ".py",
   "mimetype": "text/x-python",
   "name": "python",
   "nbconvert_exporter": "python",
   "pygments_lexer": "ipython3",
   "version": "3.12.0"
  }
 },
 "nbformat": 4,
 "nbformat_minor": 2
}
